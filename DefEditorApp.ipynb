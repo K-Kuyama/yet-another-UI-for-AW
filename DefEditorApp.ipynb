{
 "cells": [
  {
   "cell_type": "code",
   "execution_count": 1,
   "id": "d8b57e38",
   "metadata": {},
   "outputs": [
    {
     "data": {
      "application/vnd.jupyter.widget-view+json": {
       "model_id": "b83884771ce34ec8a444696a33d24b50",
       "version_major": 2,
       "version_minor": 0
      },
      "text/plain": [
       "VBox(children=(Accordion(children=(HBox(children=(VBox(children=(VBox(children=(HBox(children=(Label(value='ワー…"
      ]
     },
     "metadata": {},
     "output_type": "display_data"
    }
   ],
   "source": [
    "import sys\n",
    "import gettext\n",
    "import os\n",
    "from IPython.display import *\n",
    "from aw_ya_editor.defeditor import AnalysisDefEditor\n",
    "\n",
    "def init_translation():\n",
    "    path_to_locale_dir = os.path.abspath(\n",
    "        os.path.join(\n",
    "            os.getcwd(),\n",
    "            './locale'\n",
    "        )\n",
    "    )\n",
    "\n",
    "    translater = gettext.translation(\n",
    "        'aw_ya_editor',                   \n",
    "        localedir=path_to_locale_dir, \n",
    "#        languages=['de_DE'],          \n",
    "        fallback=True                 \n",
    "    )\n",
    "\n",
    "    translater.install()\n",
    "\n",
    "init_translation()\n",
    "ade = AnalysisDefEditor()\n",
    "display(ade.widget)"
   ]
  },
  {
   "cell_type": "code",
   "execution_count": null,
   "id": "b24aee99",
   "metadata": {},
   "outputs": [],
   "source": []
  }
 ],
 "metadata": {
  "kernelspec": {
   "display_name": "Python 3 (ipykernel)",
   "language": "python",
   "name": "python3"
  },
  "language_info": {
   "codemirror_mode": {
    "name": "ipython",
    "version": 3
   },
   "file_extension": ".py",
   "mimetype": "text/x-python",
   "name": "python",
   "nbconvert_exporter": "python",
   "pygments_lexer": "ipython3",
   "version": "3.11.4"
  }
 },
 "nbformat": 4,
 "nbformat_minor": 5
}
