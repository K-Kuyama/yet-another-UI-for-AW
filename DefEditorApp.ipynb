{
 "cells": [
  {
   "cell_type": "code",
   "execution_count": 1,
   "id": "d8b57e38",
   "metadata": {},
   "outputs": [
    {
     "name": "stdout",
     "output_type": "stream",
     "text": [
      "path in ipynb = ['/Users/kuyamakazuhiro/sources/github/yet-another-UI-for-AW', '/Library/Frameworks/Python.framework/Versions/3.11/lib/python311.zip', '/Library/Frameworks/Python.framework/Versions/3.11/lib/python3.11', '/Library/Frameworks/Python.framework/Versions/3.11/lib/python3.11/lib-dynload', '', '/Library/Frameworks/Python.framework/Versions/3.11/lib/python3.11/site-packages']\n"
     ]
    },
    {
     "data": {
      "application/vnd.jupyter.widget-view+json": {
       "model_id": "7c1442b5d5e94a3ca6bb3d7e3821a255",
       "version_major": 2,
       "version_minor": 0
      },
      "text/plain": [
       "VBox(children=(Accordion(children=(HBox(children=(VBox(children=(VBox(children=(HBox(children=(Label(value='ワー…"
      ]
     },
     "metadata": {},
     "output_type": "display_data"
    }
   ],
   "source": [
    "import sys\n",
    "import gettext\n",
    "import locale\n",
    "import os\n",
    "from IPython.display import *\n",
    "from aw_ya_editor.defeditor import AnalysisDefEditor\n",
    "\n",
    "def init_translation():\n",
    "    path_to_locale_dir = os.path.abspath(\n",
    "        os.path.join(\n",
    "            os.getcwd(),\n",
    "            './locale'\n",
    "        )\n",
    "    )\n",
    "    translater = gettext.translation(\n",
    "        'aw_ya_editor',                   \n",
    "        localedir=path_to_locale_dir, \n",
    "        languages=[locale.getlocale()[0]],         \n",
    "        fallback=True                 \n",
    "    )\n",
    "    translater.install()\n",
    "\n",
    "#print(f\"path in ipynb = {sys.path}\")\n",
    "init_translation()\n",
    "ade = AnalysisDefEditor()\n",
    "display(ade.widget)"
   ]
  },
  {
   "cell_type": "code",
   "execution_count": null,
   "id": "b24aee99",
   "metadata": {},
   "outputs": [],
   "source": []
  }
 ],
 "metadata": {
  "kernelspec": {
   "display_name": "Python 3 (ipykernel)",
   "language": "python",
   "name": "python3"
  },
  "language_info": {
   "codemirror_mode": {
    "name": "ipython",
    "version": 3
   },
   "file_extension": ".py",
   "mimetype": "text/x-python",
   "name": "python",
   "nbconvert_exporter": "python",
   "pygments_lexer": "ipython3",
   "version": "3.11.4"
  }
 },
 "nbformat": 4,
 "nbformat_minor": 5
}
