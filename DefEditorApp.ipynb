{
 "cells": [
  {
   "cell_type": "code",
   "execution_count": 1,
   "id": "d8b57e38",
   "metadata": {},
   "outputs": [
    {
     "data": {
      "application/vnd.jupyter.widget-view+json": {
       "model_id": "1e42709da4ae47eab98023b4c5eb0fea",
       "version_major": 2,
       "version_minor": 0
      },
      "text/plain": [
       "VBox(children=(Accordion(children=(HBox(children=(VBox(children=(VBox(layout=Layout(border_bottom='1px solid b…"
      ]
     },
     "metadata": {},
     "output_type": "display_data"
    }
   ],
   "source": [
    "import sys\n",
    "#sys.path.append(\"/Users/kuyamakazuhiro/sources/ActiveWatch/qt_observer\")\n",
    "\n",
    "#import mercury as mr\n",
    " \n",
    "from IPython.display import *\n",
    "from aw_ya_editor.defeditor import AnalysisDefEditor\n",
    "\n",
    "ade = AnalysisDefEditor()\n",
    "display(ade.widget)"
   ]
  },
  {
   "cell_type": "code",
   "execution_count": null,
   "id": "b24aee99",
   "metadata": {},
   "outputs": [],
   "source": []
  }
 ],
 "metadata": {
  "kernelspec": {
   "display_name": "Python 3 (ipykernel)",
   "language": "python",
   "name": "python3"
  },
  "language_info": {
   "codemirror_mode": {
    "name": "ipython",
    "version": 3
   },
   "file_extension": ".py",
   "mimetype": "text/x-python",
   "name": "python",
   "nbconvert_exporter": "python",
   "pygments_lexer": "ipython3",
   "version": "3.11.4"
  }
 },
 "nbformat": 4,
 "nbformat_minor": 5
}
