{
 "cells": [
  {
   "cell_type": "code",
   "execution_count": 1,
   "id": "fb94a9f2",
   "metadata": {},
   "outputs": [],
   "source": [
    "#%load_ext memray"
   ]
  },
  {
   "cell_type": "code",
   "execution_count": 2,
   "id": "0945d0e0",
   "metadata": {},
   "outputs": [],
   "source": [
    "import sys\n",
    "from aw_ya_view.Dashboard import Dashboard\n",
    "#from aw_ya_view.SunburstGraph import SunburstGraph\n",
    "from aw_ya_view.PieChart import PieChart\n",
    "from aw_ya_view.timebargraph import HourlyGraph\n",
    "from aw_ya_view.InformationBoard import InformationBoard\n",
    "\n",
    "#%matplotlib widget\n",
    "#%matplotlib notebook\n",
    "import matplotlib.pyplot as plt\n",
    "import cProfile"
   ]
  },
  {
   "cell_type": "code",
   "execution_count": 3,
   "id": "229565ae",
   "metadata": {},
   "outputs": [
    {
     "data": {
      "application/vnd.jupyter.widget-view+json": {
       "model_id": "30ee8bd279794cd49bfb80d48d1d2f7f",
       "version_major": 2,
       "version_minor": 0
      },
      "text/plain": [
       "VBox(children=(HBox(children=(HBox(children=(VBox(children=(Select(description='分類1', layout=Layout(width='300…"
      ]
     },
     "metadata": {},
     "output_type": "display_data"
    }
   ],
   "source": [
    "\n",
    "db = Dashboard()\n",
    "ib =InformationBoard(db)\n",
    "pc = PieChart(db)\n",
    "hg1 = HourlyGraph(db,1)\n",
    "hg2 = HourlyGraph(db,2)\n",
    "db.setView(ib,1)\n",
    "db.setView(pc,2)\n",
    "db.setView(hg1,3)\n",
    "db.setView(hg2,4)\n",
    "display(db.widget)"
   ]
  },
  {
   "cell_type": "code",
   "execution_count": null,
   "id": "cc1eb94b",
   "metadata": {},
   "outputs": [],
   "source": []
  }
 ],
 "metadata": {
  "kernelspec": {
   "display_name": "Python 3 (ipykernel)",
   "language": "python",
   "name": "python3"
  },
  "language_info": {
   "codemirror_mode": {
    "name": "ipython",
    "version": 3
   },
   "file_extension": ".py",
   "mimetype": "text/x-python",
   "name": "python",
   "nbconvert_exporter": "python",
   "pygments_lexer": "ipython3",
   "version": "3.11.4"
  }
 },
 "nbformat": 4,
 "nbformat_minor": 5
}
