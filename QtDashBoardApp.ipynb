{
 "cells": [
  {
   "cell_type": "code",
   "execution_count": 1,
   "id": "fb94a9f2",
   "metadata": {},
   "outputs": [],
   "source": [
    "#%load_ext memray"
   ]
  },
  {
   "cell_type": "code",
   "execution_count": 2,
   "id": "0945d0e0",
   "metadata": {},
   "outputs": [],
   "source": [
    "import sys\n",
    "import gettext\n",
    "import os\n",
    "from aw_ya_view.Dashboard import Dashboard\n",
    "#from aw_ya_view.SunburstGraph import SunburstGraph\n",
    "from aw_ya_view.PieChart import PieChart\n",
    "from aw_ya_view.timebargraph import HourlyGraph\n",
    "from aw_ya_view.InformationBoard import InformationBoard\n",
    "\n",
    "#%matplotlib widget\n",
    "#%matplotlib notebook\n",
    "import matplotlib.pyplot as plt\n",
    "import cProfile"
   ]
  },
  {
   "cell_type": "code",
   "execution_count": 5,
   "id": "229565ae",
   "metadata": {},
   "outputs": [
    {
     "data": {
      "application/vnd.jupyter.widget-view+json": {
       "model_id": "a82afb291a014e0e9c72aee208c7cbae",
       "version_major": 2,
       "version_minor": 0
      },
      "text/plain": [
       "VBox(children=(HBox(children=(HBox(children=(VBox(children=(Select(description='Viewpoint 1', layout=Layout(wi…"
      ]
     },
     "metadata": {},
     "output_type": "display_data"
    }
   ],
   "source": [
    "def init_translation():\n",
    "    path_to_locale_dir = os.path.abspath(\n",
    "        os.path.join(\n",
    "            os.getcwd(),\n",
    "            './locale'\n",
    "        )\n",
    "    )\n",
    "\n",
    "    translater = gettext.translation(\n",
    "        'aw_ya_view',                   \n",
    "        localedir=path_to_locale_dir, \n",
    "#        languages=['de_DE'],          \n",
    "        fallback=True                 \n",
    "    )\n",
    "    translater.install()\n",
    "\n",
    "init_translation()\n",
    "db = Dashboard()\n",
    "ib =InformationBoard(db)\n",
    "pc = PieChart(db)\n",
    "hg1 = HourlyGraph(db,1)\n",
    "hg2 = HourlyGraph(db,2)\n",
    "db.setView(ib,1)\n",
    "db.setView(pc,2)\n",
    "db.setView(hg1,3)\n",
    "db.setView(hg2,4)\n",
    "display(db.widget)"
   ]
  },
  {
   "cell_type": "code",
   "execution_count": null,
   "id": "cc1eb94b",
   "metadata": {},
   "outputs": [],
   "source": []
  }
 ],
 "metadata": {
  "kernelspec": {
   "display_name": "Python 3 (ipykernel)",
   "language": "python",
   "name": "python3"
  },
  "language_info": {
   "codemirror_mode": {
    "name": "ipython",
    "version": 3
   },
   "file_extension": ".py",
   "mimetype": "text/x-python",
   "name": "python",
   "nbconvert_exporter": "python",
   "pygments_lexer": "ipython3",
   "version": "3.11.4"
  }
 },
 "nbformat": 4,
 "nbformat_minor": 5
}
